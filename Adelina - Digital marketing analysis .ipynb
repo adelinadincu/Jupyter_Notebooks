{
 "cells": [
  {
   "cell_type": "markdown",
   "metadata": {
    "id": "-JzbMZMGL2W1"
   },
   "source": [
    " ![Emil](data:image/png;base64,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)"
   ]
  },
  {
   "cell_type": "markdown",
   "metadata": {
    "id": "3Io8S5AZL2W3"
   },
   "source": [
    "\n",
    "# Digital marketing analysis"
   ]
  },
  {
   "cell_type": "markdown",
   "metadata": {
    "id": "pl5nr9Y5CUP5"
   },
   "source": [
    "#### **Load data**"
   ]
  },
  {
   "cell_type": "markdown",
   "metadata": {
    "id": "CSbXRK0ExDAt"
   },
   "source": [
    "a) Download and upload [`acquisition_facebook_adds.csv`](https://drive.google.com/file/d/1U4bXgai8KiEWLomvYqMAF-D-0zeKfU_l/view?usp=sharing) file in Google Colab."
   ]
  },
  {
   "cell_type": "markdown",
   "metadata": {
    "id": "k-mqhK_OL2YL"
   },
   "source": [
    "b) Load `acquisition_facebook_adds.csv` data in a DataFrame named `df_facebook`."
   ]
  },
  {
   "cell_type": "code",
   "execution_count": 1,
   "metadata": {},
   "outputs": [],
   "source": [
    "import pandas as pd"
   ]
  },
  {
   "cell_type": "code",
   "execution_count": 2,
   "metadata": {
    "id": "IVjjErubL2YM"
   },
   "outputs": [],
   "source": [
    "df_facebook = pd.read_csv(r\"C:\\Users\\ionel\\Downloads\\acquisition_facebook_adds.csv\")"
   ]
  },
  {
   "cell_type": "markdown",
   "metadata": {
    "id": "oZIgFp80ClcD"
   },
   "source": [
    "   #### **Data Discovery**\n",
    "   "
   ]
  },
  {
   "cell_type": "markdown",
   "metadata": {
    "id": "CeGynA7vL2YO"
   },
   "source": [
    "c) Print `df_facebook` DataFrame."
   ]
  },
  {
   "cell_type": "code",
   "execution_count": 3,
   "metadata": {
    "cellView": "code",
    "id": "UbibnbaxL2YP"
   },
   "outputs": [
    {
     "name": "stdout",
     "output_type": "stream",
     "text": [
      "             date   channel   spend\n",
      "0      2019-08-01     Media   91.80\n",
      "1      2019-08-01     Media   44.42\n",
      "2      2019-08-01     Media   41.98\n",
      "3      2019-08-01  Facebook    7.02\n",
      "4      2019-08-01  Facebook    1.09\n",
      "...           ...       ...     ...\n",
      "73626  2019-01-18     Media   59.66\n",
      "73627  2019-01-18     Media  126.23\n",
      "73628  2019-01-18     Media   10.82\n",
      "73629  2019-01-18     Media   13.90\n",
      "73630  2019-01-18     Media  179.68\n",
      "\n",
      "[73631 rows x 3 columns]\n"
     ]
    }
   ],
   "source": [
    "print(df_facebook)"
   ]
  },
  {
   "cell_type": "markdown",
   "metadata": {
    "id": "XHXSDWk7_4lA"
   },
   "source": [
    "d) How many rows and columns are in this DataFrame ?"
   ]
  },
  {
   "cell_type": "markdown",
   "metadata": {
    "id": "6If0jl0s_7jT"
   },
   "source": [
    "[73631 rows x 3 columns]\n"
   ]
  },
  {
   "cell_type": "markdown",
   "metadata": {
    "id": "gWkbUsCZm-8h"
   },
   "source": [
    "##### **Columns selection**"
   ]
  },
  {
   "cell_type": "markdown",
   "metadata": {
    "id": "HapZsAtPfjTj"
   },
   "source": [
    "e) Select only `date` and `spend` columns of this DataFrame and save the result in a `df_facebook_date_spend` variable."
   ]
  },
  {
   "cell_type": "code",
   "execution_count": 4,
   "metadata": {
    "id": "PCdrQlUtf9LT",
    "scrolled": true
   },
   "outputs": [
    {
     "data": {
      "text/html": [
       "<div>\n",
       "<style scoped>\n",
       "    .dataframe tbody tr th:only-of-type {\n",
       "        vertical-align: middle;\n",
       "    }\n",
       "\n",
       "    .dataframe tbody tr th {\n",
       "        vertical-align: top;\n",
       "    }\n",
       "\n",
       "    .dataframe thead th {\n",
       "        text-align: right;\n",
       "    }\n",
       "</style>\n",
       "<table border=\"1\" class=\"dataframe\">\n",
       "  <thead>\n",
       "    <tr style=\"text-align: right;\">\n",
       "      <th></th>\n",
       "      <th>date</th>\n",
       "      <th>spend</th>\n",
       "    </tr>\n",
       "  </thead>\n",
       "  <tbody>\n",
       "    <tr>\n",
       "      <th>0</th>\n",
       "      <td>2019-08-01</td>\n",
       "      <td>91.80</td>\n",
       "    </tr>\n",
       "    <tr>\n",
       "      <th>1</th>\n",
       "      <td>2019-08-01</td>\n",
       "      <td>44.42</td>\n",
       "    </tr>\n",
       "    <tr>\n",
       "      <th>2</th>\n",
       "      <td>2019-08-01</td>\n",
       "      <td>41.98</td>\n",
       "    </tr>\n",
       "    <tr>\n",
       "      <th>3</th>\n",
       "      <td>2019-08-01</td>\n",
       "      <td>7.02</td>\n",
       "    </tr>\n",
       "    <tr>\n",
       "      <th>4</th>\n",
       "      <td>2019-08-01</td>\n",
       "      <td>1.09</td>\n",
       "    </tr>\n",
       "    <tr>\n",
       "      <th>...</th>\n",
       "      <td>...</td>\n",
       "      <td>...</td>\n",
       "    </tr>\n",
       "    <tr>\n",
       "      <th>73626</th>\n",
       "      <td>2019-01-18</td>\n",
       "      <td>59.66</td>\n",
       "    </tr>\n",
       "    <tr>\n",
       "      <th>73627</th>\n",
       "      <td>2019-01-18</td>\n",
       "      <td>126.23</td>\n",
       "    </tr>\n",
       "    <tr>\n",
       "      <th>73628</th>\n",
       "      <td>2019-01-18</td>\n",
       "      <td>10.82</td>\n",
       "    </tr>\n",
       "    <tr>\n",
       "      <th>73629</th>\n",
       "      <td>2019-01-18</td>\n",
       "      <td>13.90</td>\n",
       "    </tr>\n",
       "    <tr>\n",
       "      <th>73630</th>\n",
       "      <td>2019-01-18</td>\n",
       "      <td>179.68</td>\n",
       "    </tr>\n",
       "  </tbody>\n",
       "</table>\n",
       "<p>73631 rows × 2 columns</p>\n",
       "</div>"
      ],
      "text/plain": [
       "             date   spend\n",
       "0      2019-08-01   91.80\n",
       "1      2019-08-01   44.42\n",
       "2      2019-08-01   41.98\n",
       "3      2019-08-01    7.02\n",
       "4      2019-08-01    1.09\n",
       "...           ...     ...\n",
       "73626  2019-01-18   59.66\n",
       "73627  2019-01-18  126.23\n",
       "73628  2019-01-18   10.82\n",
       "73629  2019-01-18   13.90\n",
       "73630  2019-01-18  179.68\n",
       "\n",
       "[73631 rows x 2 columns]"
      ]
     },
     "execution_count": 4,
     "metadata": {},
     "output_type": "execute_result"
    }
   ],
   "source": [
    "df_facebook[[\"date\", \"spend\"]]"
   ]
  },
  {
   "cell_type": "code",
   "execution_count": 5,
   "metadata": {},
   "outputs": [],
   "source": [
    "df_facebook_date_spend = df_facebook[[\"date\", \"spend\"]]"
   ]
  },
  {
   "cell_type": "markdown",
   "metadata": {
    "id": "WwLti306e7v6"
   },
   "source": [
    "##### **Filtering**"
   ]
  },
  {
   "cell_type": "markdown",
   "metadata": {
    "id": "0-Nj_HKmjmTr"
   },
   "source": [
    "f) Filter the `df_facebook` DataFrame only on the **Media** channel and save the result in a `df_facebook_media` variable."
   ]
  },
  {
   "cell_type": "code",
   "execution_count": 6,
   "metadata": {
    "id": "cYrpkuPqfheR",
    "scrolled": true
   },
   "outputs": [
    {
     "data": {
      "text/plain": [
       "0         True\n",
       "1         True\n",
       "2         True\n",
       "3        False\n",
       "4        False\n",
       "         ...  \n",
       "73626     True\n",
       "73627     True\n",
       "73628     True\n",
       "73629     True\n",
       "73630     True\n",
       "Name: channel, Length: 73631, dtype: bool"
      ]
     },
     "execution_count": 6,
     "metadata": {},
     "output_type": "execute_result"
    }
   ],
   "source": [
    "df_facebook[\"channel\"] == \"Media\""
   ]
  },
  {
   "cell_type": "code",
   "execution_count": 7,
   "metadata": {},
   "outputs": [],
   "source": [
    "df_facebook_media = df_facebook[\"channel\"] == \"Media\""
   ]
  },
  {
   "cell_type": "markdown",
   "metadata": {
    "id": "tm6nFk53kyT-"
   },
   "source": [
    "g) Filter the `df_facebook` DataFrame only on Instagram channel the `2019-01-13`.\n",
    "\n",
    "Save the result in a variable `df_facebook_instagram_20190113`.\n",
    "\n",
    "We will save `df_facebook_instagram_20190113` to a csv file `acquisition_facebook_instagram_20190113.csv`.\n"
   ]
  },
  {
   "cell_type": "code",
   "execution_count": 8,
   "metadata": {
    "id": "doFGifVBmc3k",
    "scrolled": true
   },
   "outputs": [
    {
     "data": {
      "text/html": [
       "<div>\n",
       "<style scoped>\n",
       "    .dataframe tbody tr th:only-of-type {\n",
       "        vertical-align: middle;\n",
       "    }\n",
       "\n",
       "    .dataframe tbody tr th {\n",
       "        vertical-align: top;\n",
       "    }\n",
       "\n",
       "    .dataframe thead th {\n",
       "        text-align: right;\n",
       "    }\n",
       "</style>\n",
       "<table border=\"1\" class=\"dataframe\">\n",
       "  <thead>\n",
       "    <tr style=\"text-align: right;\">\n",
       "      <th></th>\n",
       "      <th>date</th>\n",
       "      <th>channel</th>\n",
       "      <th>spend</th>\n",
       "    </tr>\n",
       "  </thead>\n",
       "  <tbody>\n",
       "    <tr>\n",
       "      <th>6415</th>\n",
       "      <td>2019-01-13</td>\n",
       "      <td>Instagram</td>\n",
       "      <td>0.00</td>\n",
       "    </tr>\n",
       "    <tr>\n",
       "      <th>6423</th>\n",
       "      <td>2019-01-13</td>\n",
       "      <td>Instagram</td>\n",
       "      <td>0.02</td>\n",
       "    </tr>\n",
       "    <tr>\n",
       "      <th>6438</th>\n",
       "      <td>2019-01-13</td>\n",
       "      <td>Instagram</td>\n",
       "      <td>7.69</td>\n",
       "    </tr>\n",
       "    <tr>\n",
       "      <th>6454</th>\n",
       "      <td>2019-01-13</td>\n",
       "      <td>Instagram</td>\n",
       "      <td>6.41</td>\n",
       "    </tr>\n",
       "    <tr>\n",
       "      <th>6471</th>\n",
       "      <td>2019-01-13</td>\n",
       "      <td>Instagram</td>\n",
       "      <td>7.43</td>\n",
       "    </tr>\n",
       "    <tr>\n",
       "      <th>...</th>\n",
       "      <td>...</td>\n",
       "      <td>...</td>\n",
       "      <td>...</td>\n",
       "    </tr>\n",
       "    <tr>\n",
       "      <th>12529</th>\n",
       "      <td>2019-01-13</td>\n",
       "      <td>Instagram</td>\n",
       "      <td>2.53</td>\n",
       "    </tr>\n",
       "    <tr>\n",
       "      <th>12546</th>\n",
       "      <td>2019-01-13</td>\n",
       "      <td>Instagram</td>\n",
       "      <td>0.83</td>\n",
       "    </tr>\n",
       "    <tr>\n",
       "      <th>12561</th>\n",
       "      <td>2019-01-13</td>\n",
       "      <td>Instagram</td>\n",
       "      <td>0.64</td>\n",
       "    </tr>\n",
       "    <tr>\n",
       "      <th>12575</th>\n",
       "      <td>2019-01-13</td>\n",
       "      <td>Instagram</td>\n",
       "      <td>0.03</td>\n",
       "    </tr>\n",
       "    <tr>\n",
       "      <th>12589</th>\n",
       "      <td>2019-01-13</td>\n",
       "      <td>Instagram</td>\n",
       "      <td>200.16</td>\n",
       "    </tr>\n",
       "  </tbody>\n",
       "</table>\n",
       "<p>207 rows × 3 columns</p>\n",
       "</div>"
      ],
      "text/plain": [
       "             date    channel   spend\n",
       "6415   2019-01-13  Instagram    0.00\n",
       "6423   2019-01-13  Instagram    0.02\n",
       "6438   2019-01-13  Instagram    7.69\n",
       "6454   2019-01-13  Instagram    6.41\n",
       "6471   2019-01-13  Instagram    7.43\n",
       "...           ...        ...     ...\n",
       "12529  2019-01-13  Instagram    2.53\n",
       "12546  2019-01-13  Instagram    0.83\n",
       "12561  2019-01-13  Instagram    0.64\n",
       "12575  2019-01-13  Instagram    0.03\n",
       "12589  2019-01-13  Instagram  200.16\n",
       "\n",
       "[207 rows x 3 columns]"
      ]
     },
     "execution_count": 8,
     "metadata": {},
     "output_type": "execute_result"
    }
   ],
   "source": [
    "df_facebook[(df_facebook[\"channel\"] == \"Instagram\") & (df_facebook[\"date\"] == \"2019-01-13\")]"
   ]
  },
  {
   "cell_type": "code",
   "execution_count": 9,
   "metadata": {},
   "outputs": [],
   "source": [
    "df_facebook_instagram_20190113 = df_facebook[(df_facebook[\"channel\"] == \"Instagram\") & (df_facebook[\"date\"] == \"2019-01-13\")]"
   ]
  },
  {
   "cell_type": "code",
   "execution_count": 10,
   "metadata": {},
   "outputs": [],
   "source": [
    "df_facebook_instagram_20190113.to_csv(r\"C:\\Users\\ionel\\OneDrive\\Escritorio\\Python\\acquisition_facebook_instagram_20190113.csv\") "
   ]
  },
  {
   "cell_type": "markdown",
   "metadata": {
    "id": "Mec87130n6g7"
   },
   "source": [
    "#### **Data Analysis**"
   ]
  },
  {
   "cell_type": "markdown",
   "metadata": {
    "id": "X2UXhfCAsRKl"
   },
   "source": [
    "###### **Cast a date column to datetime**"
   ]
  },
  {
   "cell_type": "markdown",
   "metadata": {
    "id": "pcEH20e-L2YT"
   },
   "source": [
    "h) Convert the `date` column of the `df_facebook` DataFrame to datetime (a Python type for dates).\n",
    "\n",
    "We'll use the `pd.to_datetime()` function to do this.\n",
    "\n",
    "Have a look at the syntax in the course. Which **format** should you use here?"
   ]
  },
  {
   "cell_type": "code",
   "execution_count": 11,
   "metadata": {
    "id": "xDdJsFnOL2YT"
   },
   "outputs": [
    {
     "data": {
      "text/plain": [
       "0       2019-08-01\n",
       "1       2019-08-01\n",
       "2       2019-08-01\n",
       "3       2019-08-01\n",
       "4       2019-08-01\n",
       "           ...    \n",
       "73626   2019-01-18\n",
       "73627   2019-01-18\n",
       "73628   2019-01-18\n",
       "73629   2019-01-18\n",
       "73630   2019-01-18\n",
       "Name: date, Length: 73631, dtype: datetime64[ns]"
      ]
     },
     "execution_count": 11,
     "metadata": {},
     "output_type": "execute_result"
    }
   ],
   "source": [
    "pd.to_datetime(df_facebook[\"date\"], format=\"%Y-%m-%d\")"
   ]
  },
  {
   "cell_type": "markdown",
   "metadata": {
    "id": "1QovQqC_v4FX"
   },
   "source": [
    "##### **Aggregate functions**"
   ]
  },
  {
   "cell_type": "markdown",
   "metadata": {
    "id": "qSrBE3IcL2YR"
   },
   "source": [
    "i) Over what time period does the data extend?\n",
    "\n",
    "You can use the `.min()` and `.max()` aggregation functions on the `date` column"
   ]
  },
  {
   "cell_type": "code",
   "execution_count": 12,
   "metadata": {},
   "outputs": [
    {
     "data": {
      "text/plain": [
       "'2019-01-01'"
      ]
     },
     "execution_count": 12,
     "metadata": {},
     "output_type": "execute_result"
    }
   ],
   "source": [
    "df_facebook[\"date\"].min()"
   ]
  },
  {
   "cell_type": "code",
   "execution_count": 13,
   "metadata": {},
   "outputs": [
    {
     "data": {
      "text/plain": [
       "'2019-10-18'"
      ]
     },
     "execution_count": 13,
     "metadata": {},
     "output_type": "execute_result"
    }
   ],
   "source": [
    "df_facebook[\"date\"].max()"
   ]
  },
  {
   "cell_type": "code",
   "execution_count": 14,
   "metadata": {
    "id": "nfHOuDa3F3CK"
   },
   "outputs": [],
   "source": [
    "first = df_facebook[\"date\"].min()\n",
    "last = df_facebook[\"date\"].max()"
   ]
  },
  {
   "cell_type": "code",
   "execution_count": 15,
   "metadata": {},
   "outputs": [
    {
     "data": {
      "text/plain": [
       "Timedelta('290 days 00:00:00')"
      ]
     },
     "execution_count": 15,
     "metadata": {},
     "output_type": "execute_result"
    }
   ],
   "source": [
    "pd.to_datetime(last) - pd.to_datetime(first)"
   ]
  },
  {
   "cell_type": "markdown",
   "metadata": {
    "id": "ndsY4hpKL2YV"
   },
   "source": [
    "j) Over the whole period, how much did Shapr spend?\n",
    "\n",
    "We can use the aggregation function `.sum()` on the `spend` column."
   ]
  },
  {
   "cell_type": "code",
   "execution_count": 16,
   "metadata": {
    "id": "J2ZMnyMcoo0F"
   },
   "outputs": [
    {
     "data": {
      "text/plain": [
       "1811170.169857"
      ]
     },
     "execution_count": 16,
     "metadata": {},
     "output_type": "execute_result"
    }
   ],
   "source": [
    "df_facebook[\"spend\"].sum()"
   ]
  },
  {
   "cell_type": "code",
   "execution_count": 17,
   "metadata": {},
   "outputs": [],
   "source": [
    "total_spend = df_facebook[\"spend\"].sum()"
   ]
  },
  {
   "cell_type": "code",
   "execution_count": 18,
   "metadata": {},
   "outputs": [
    {
     "name": "stdout",
     "output_type": "stream",
     "text": [
      "1811170.169857\n"
     ]
    }
   ],
   "source": [
    "print(total_spend)"
   ]
  },
  {
   "cell_type": "markdown",
   "metadata": {
    "id": "rjA1r1tsHvYf"
   },
   "source": [
    "k) Calculate the amount of money spent by Shapr day by day.\n",
    "\n",
    "To do this we will use the `.groupby()` function and then the `.sum()` aggregation function on the `spend` column.\n",
    "\n",
    "We will store the result in a `df_facebook_daily` variable. Look at the syntax in the course colab.\n",
    "\n",
    "**Use the argument as_index=False to get a DataFrame as result**."
   ]
  },
  {
   "cell_type": "code",
   "execution_count": 19,
   "metadata": {
    "colab": {
     "base_uri": "https://localhost:8080/",
     "height": 424
    },
    "executionInfo": {
     "elapsed": 268,
     "status": "ok",
     "timestamp": 1668955932910,
     "user": {
      "displayName": "Paul Mochkovitch",
      "userId": "11238269585821385606"
     },
     "user_tz": -60
    },
    "id": "mllqkrFuHus3",
    "outputId": "feeb945e-edf4-4c69-b6b3-b0286e14699a"
   },
   "outputs": [
    {
     "data": {
      "text/plain": [
       "date\n",
       "2019-01-01    4082.340000\n",
       "2019-01-02    4737.440000\n",
       "2019-01-03    5838.160000\n",
       "2019-01-04    7793.200000\n",
       "2019-01-05    8572.060000\n",
       "                 ...     \n",
       "2019-10-14     274.900000\n",
       "2019-10-15     285.210008\n",
       "2019-10-16     310.230002\n",
       "2019-10-17     297.490002\n",
       "2019-10-18      67.180000\n",
       "Name: spend, Length: 291, dtype: float64"
      ]
     },
     "execution_count": 19,
     "metadata": {},
     "output_type": "execute_result"
    }
   ],
   "source": [
    "df_facebook.groupby([\"date\"])[\"spend\"].sum()"
   ]
  },
  {
   "cell_type": "code",
   "execution_count": 20,
   "metadata": {},
   "outputs": [],
   "source": [
    "df_facebook_daily = df_facebook.groupby([\"date\"])[\"spend\"].sum()"
   ]
  },
  {
   "cell_type": "markdown",
   "metadata": {
    "id": "QG58rIoEsroa"
   },
   "source": [
    "m) We would like to extend the analysis by looking at the marketing spend strategy by channel over time.\n",
    "\n",
    "Calculate the amount spent per day per channel. We will store the result in a variable `df_facebook_channel_daily`.\n",
    "\n",
    "**Use the argument as_index=False again to get a DataFrame as a result**"
   ]
  },
  {
   "cell_type": "code",
   "execution_count": 21,
   "metadata": {
    "colab": {
     "base_uri": "https://localhost:8080/",
     "height": 424
    },
    "executionInfo": {
     "elapsed": 253,
     "status": "ok",
     "timestamp": 1668956105749,
     "user": {
      "displayName": "Paul Mochkovitch",
      "userId": "11238269585821385606"
     },
     "user_tz": -60
    },
    "id": "WLAhmz5fuP3z",
    "outputId": "1d313531-ae7d-4112-9fd5-1cb3a3273e4e"
   },
   "outputs": [
    {
     "data": {
      "text/plain": [
       "date        channel  \n",
       "2019-01-01  Facebook      706.210000\n",
       "            Instagram    1406.140000\n",
       "            Media        1969.990000\n",
       "2019-01-02  Facebook      860.150000\n",
       "            Instagram    1524.340000\n",
       "                            ...     \n",
       "2019-10-17  Instagram     146.470000\n",
       "            Media          48.170002\n",
       "2019-10-18  Facebook       15.930000\n",
       "            Instagram      28.870000\n",
       "            Media          22.380000\n",
       "Name: spend, Length: 873, dtype: float64"
      ]
     },
     "execution_count": 21,
     "metadata": {},
     "output_type": "execute_result"
    }
   ],
   "source": [
    "df_facebook.groupby([\"date\", \"channel\"])[\"spend\"].sum()"
   ]
  },
  {
   "cell_type": "code",
   "execution_count": 22,
   "metadata": {},
   "outputs": [],
   "source": [
    "df_facebook_channel_daily = df_facebook.groupby([\"date\", \"channel\"])[\"spend\"].sum().reset_index()"
   ]
  },
  {
   "cell_type": "code",
   "execution_count": 23,
   "metadata": {},
   "outputs": [
    {
     "data": {
      "text/html": [
       "<div>\n",
       "<style scoped>\n",
       "    .dataframe tbody tr th:only-of-type {\n",
       "        vertical-align: middle;\n",
       "    }\n",
       "\n",
       "    .dataframe tbody tr th {\n",
       "        vertical-align: top;\n",
       "    }\n",
       "\n",
       "    .dataframe thead th {\n",
       "        text-align: right;\n",
       "    }\n",
       "</style>\n",
       "<table border=\"1\" class=\"dataframe\">\n",
       "  <thead>\n",
       "    <tr style=\"text-align: right;\">\n",
       "      <th></th>\n",
       "      <th>date</th>\n",
       "      <th>channel</th>\n",
       "      <th>spend</th>\n",
       "    </tr>\n",
       "  </thead>\n",
       "  <tbody>\n",
       "    <tr>\n",
       "      <th>0</th>\n",
       "      <td>2019-01-01</td>\n",
       "      <td>Facebook</td>\n",
       "      <td>706.210000</td>\n",
       "    </tr>\n",
       "    <tr>\n",
       "      <th>1</th>\n",
       "      <td>2019-01-01</td>\n",
       "      <td>Instagram</td>\n",
       "      <td>1406.140000</td>\n",
       "    </tr>\n",
       "    <tr>\n",
       "      <th>2</th>\n",
       "      <td>2019-01-01</td>\n",
       "      <td>Media</td>\n",
       "      <td>1969.990000</td>\n",
       "    </tr>\n",
       "    <tr>\n",
       "      <th>3</th>\n",
       "      <td>2019-01-02</td>\n",
       "      <td>Facebook</td>\n",
       "      <td>860.150000</td>\n",
       "    </tr>\n",
       "    <tr>\n",
       "      <th>4</th>\n",
       "      <td>2019-01-02</td>\n",
       "      <td>Instagram</td>\n",
       "      <td>1524.340000</td>\n",
       "    </tr>\n",
       "    <tr>\n",
       "      <th>...</th>\n",
       "      <td>...</td>\n",
       "      <td>...</td>\n",
       "      <td>...</td>\n",
       "    </tr>\n",
       "    <tr>\n",
       "      <th>868</th>\n",
       "      <td>2019-10-17</td>\n",
       "      <td>Instagram</td>\n",
       "      <td>146.470000</td>\n",
       "    </tr>\n",
       "    <tr>\n",
       "      <th>869</th>\n",
       "      <td>2019-10-17</td>\n",
       "      <td>Media</td>\n",
       "      <td>48.170002</td>\n",
       "    </tr>\n",
       "    <tr>\n",
       "      <th>870</th>\n",
       "      <td>2019-10-18</td>\n",
       "      <td>Facebook</td>\n",
       "      <td>15.930000</td>\n",
       "    </tr>\n",
       "    <tr>\n",
       "      <th>871</th>\n",
       "      <td>2019-10-18</td>\n",
       "      <td>Instagram</td>\n",
       "      <td>28.870000</td>\n",
       "    </tr>\n",
       "    <tr>\n",
       "      <th>872</th>\n",
       "      <td>2019-10-18</td>\n",
       "      <td>Media</td>\n",
       "      <td>22.380000</td>\n",
       "    </tr>\n",
       "  </tbody>\n",
       "</table>\n",
       "<p>873 rows × 3 columns</p>\n",
       "</div>"
      ],
      "text/plain": [
       "           date    channel        spend\n",
       "0    2019-01-01   Facebook   706.210000\n",
       "1    2019-01-01  Instagram  1406.140000\n",
       "2    2019-01-01      Media  1969.990000\n",
       "3    2019-01-02   Facebook   860.150000\n",
       "4    2019-01-02  Instagram  1524.340000\n",
       "..          ...        ...          ...\n",
       "868  2019-10-17  Instagram   146.470000\n",
       "869  2019-10-17      Media    48.170002\n",
       "870  2019-10-18   Facebook    15.930000\n",
       "871  2019-10-18  Instagram    28.870000\n",
       "872  2019-10-18      Media    22.380000\n",
       "\n",
       "[873 rows x 3 columns]"
      ]
     },
     "execution_count": 23,
     "metadata": {},
     "output_type": "execute_result"
    }
   ],
   "source": [
    "df_facebook.groupby([\"date\", \"channel\"])[\"spend\"].sum().reset_index()"
   ]
  },
  {
   "cell_type": "code",
   "execution_count": 24,
   "metadata": {},
   "outputs": [
    {
     "data": {
      "text/html": [
       "<div>\n",
       "<style scoped>\n",
       "    .dataframe tbody tr th:only-of-type {\n",
       "        vertical-align: middle;\n",
       "    }\n",
       "\n",
       "    .dataframe tbody tr th {\n",
       "        vertical-align: top;\n",
       "    }\n",
       "\n",
       "    .dataframe thead th {\n",
       "        text-align: right;\n",
       "    }\n",
       "</style>\n",
       "<table border=\"1\" class=\"dataframe\">\n",
       "  <thead>\n",
       "    <tr style=\"text-align: right;\">\n",
       "      <th></th>\n",
       "      <th>date</th>\n",
       "      <th>channel</th>\n",
       "      <th>spend</th>\n",
       "    </tr>\n",
       "  </thead>\n",
       "  <tbody>\n",
       "    <tr>\n",
       "      <th>0</th>\n",
       "      <td>2019-01-01</td>\n",
       "      <td>Facebook</td>\n",
       "      <td>706.210000</td>\n",
       "    </tr>\n",
       "    <tr>\n",
       "      <th>1</th>\n",
       "      <td>2019-01-01</td>\n",
       "      <td>Instagram</td>\n",
       "      <td>1406.140000</td>\n",
       "    </tr>\n",
       "    <tr>\n",
       "      <th>2</th>\n",
       "      <td>2019-01-01</td>\n",
       "      <td>Media</td>\n",
       "      <td>1969.990000</td>\n",
       "    </tr>\n",
       "    <tr>\n",
       "      <th>3</th>\n",
       "      <td>2019-01-02</td>\n",
       "      <td>Facebook</td>\n",
       "      <td>860.150000</td>\n",
       "    </tr>\n",
       "    <tr>\n",
       "      <th>4</th>\n",
       "      <td>2019-01-02</td>\n",
       "      <td>Instagram</td>\n",
       "      <td>1524.340000</td>\n",
       "    </tr>\n",
       "    <tr>\n",
       "      <th>...</th>\n",
       "      <td>...</td>\n",
       "      <td>...</td>\n",
       "      <td>...</td>\n",
       "    </tr>\n",
       "    <tr>\n",
       "      <th>868</th>\n",
       "      <td>2019-10-17</td>\n",
       "      <td>Instagram</td>\n",
       "      <td>146.470000</td>\n",
       "    </tr>\n",
       "    <tr>\n",
       "      <th>869</th>\n",
       "      <td>2019-10-17</td>\n",
       "      <td>Media</td>\n",
       "      <td>48.170002</td>\n",
       "    </tr>\n",
       "    <tr>\n",
       "      <th>870</th>\n",
       "      <td>2019-10-18</td>\n",
       "      <td>Facebook</td>\n",
       "      <td>15.930000</td>\n",
       "    </tr>\n",
       "    <tr>\n",
       "      <th>871</th>\n",
       "      <td>2019-10-18</td>\n",
       "      <td>Instagram</td>\n",
       "      <td>28.870000</td>\n",
       "    </tr>\n",
       "    <tr>\n",
       "      <th>872</th>\n",
       "      <td>2019-10-18</td>\n",
       "      <td>Media</td>\n",
       "      <td>22.380000</td>\n",
       "    </tr>\n",
       "  </tbody>\n",
       "</table>\n",
       "<p>873 rows × 3 columns</p>\n",
       "</div>"
      ],
      "text/plain": [
       "           date    channel        spend\n",
       "0    2019-01-01   Facebook   706.210000\n",
       "1    2019-01-01  Instagram  1406.140000\n",
       "2    2019-01-01      Media  1969.990000\n",
       "3    2019-01-02   Facebook   860.150000\n",
       "4    2019-01-02  Instagram  1524.340000\n",
       "..          ...        ...          ...\n",
       "868  2019-10-17  Instagram   146.470000\n",
       "869  2019-10-17      Media    48.170002\n",
       "870  2019-10-18   Facebook    15.930000\n",
       "871  2019-10-18  Instagram    28.870000\n",
       "872  2019-10-18      Media    22.380000\n",
       "\n",
       "[873 rows x 3 columns]"
      ]
     },
     "execution_count": 24,
     "metadata": {},
     "output_type": "execute_result"
    }
   ],
   "source": [
    "df_facebook_channel_daily"
   ]
  },
  {
   "cell_type": "markdown",
   "metadata": {
    "id": "0bKpRMSuuvE-"
   },
   "source": [
    "n) We want to display these values in a graph.\n",
    "\n",
    "Execute the code below to achieve this (we will have a specific lecture on visualisations in Python later in the bootcamp)\n",
    "\n",
    "Comment Shaphr investments."
   ]
  },
  {
   "cell_type": "code",
   "execution_count": 25,
   "metadata": {
    "colab": {
     "base_uri": "https://localhost:8080/",
     "height": 657
    },
    "executionInfo": {
     "elapsed": 1863,
     "status": "ok",
     "timestamp": 1668956262616,
     "user": {
      "displayName": "Paul Mochkovitch",
      "userId": "11238269585821385606"
     },
     "user_tz": -60
    },
    "id": "YjCV4HCSvXpf",
    "outputId": "5f9e1414-43e5-4252-c69b-eb5be4aba7a8"
   },
   "outputs": [
    {
     "data": {
      "image/png": "[encoded data removed]",
      "text/plain": [
       "<Figure size 1200x900 with 3 Axes>"
      ]
     },
     "metadata": {},
     "output_type": "display_data"
    }
   ],
   "source": [
    "import matplotlib.pyplot as plt\n",
    "import seaborn as sns\n",
    "\n",
    "sns.relplot(kind=\"line\",\n",
    "            data=df_facebook_channel_daily,\n",
    "            x=\"date\",\n",
    "            y=\"spend\",\n",
    "            row=\"channel\",\n",
    "            height=3,\n",
    "            aspect=12/3)\n",
    "plt.xlabel(\"date\")\n",
    "plt.ylabel(\"spend\")\n",
    "plt.title(\"Facebook spends over time\")\n",
    "plt.show()"
   ]
  },
  {
   "cell_type": "markdown",
   "metadata": {
    "id": "fLmzTOe8w0rc"
   },
   "source": [
    "#### **Data Wrangling**"
   ]
  },
  {
   "cell_type": "markdown",
   "metadata": {
    "id": "G_-atzyE5LHV"
   },
   "source": [
    "##### **Join two dataframes**"
   ]
  },
  {
   "cell_type": "markdown",
   "metadata": {
    "id": "X0aX4WHK6tZO"
   },
   "source": [
    "o) Load the file [`social_network_taxes.csv`](https://drive.google.com/file/d/1Lleeq3STLbX_wL6j6jNwlFt5eJRrIrAF/view?usp=sharing) into a `df_taxes` DataFrame and display it.\n",
    "\n",
    "This represents the fee applied by each of the social networks as a tax  (not real numbers). I.e. for a fee of 0.10, if you invest 100 (spend=100), the social network takes 10 as tax."
   ]
  },
  {
   "cell_type": "code",
   "execution_count": 32,
   "metadata": {},
   "outputs": [],
   "source": [
    "df_taxes = pd.read_csv(r\"C:\\Users\\ionel\\OneDrive\\Escritorio\\Python\\social_network_taxes.csv\")"
   ]
  },
  {
   "cell_type": "code",
   "execution_count": 33,
   "metadata": {},
   "outputs": [
    {
     "data": {
      "text/html": [
       "<div>\n",
       "<style scoped>\n",
       "    .dataframe tbody tr th:only-of-type {\n",
       "        vertical-align: middle;\n",
       "    }\n",
       "\n",
       "    .dataframe tbody tr th {\n",
       "        vertical-align: top;\n",
       "    }\n",
       "\n",
       "    .dataframe thead th {\n",
       "        text-align: right;\n",
       "    }\n",
       "</style>\n",
       "<table border=\"1\" class=\"dataframe\">\n",
       "  <thead>\n",
       "    <tr style=\"text-align: right;\">\n",
       "      <th></th>\n",
       "      <th>channel</th>\n",
       "      <th>tax</th>\n",
       "    </tr>\n",
       "  </thead>\n",
       "  <tbody>\n",
       "    <tr>\n",
       "      <th>0</th>\n",
       "      <td>Instagram</td>\n",
       "      <td>0.20</td>\n",
       "    </tr>\n",
       "    <tr>\n",
       "      <th>1</th>\n",
       "      <td>Facebook</td>\n",
       "      <td>0.15</td>\n",
       "    </tr>\n",
       "    <tr>\n",
       "      <th>2</th>\n",
       "      <td>Media</td>\n",
       "      <td>0.10</td>\n",
       "    </tr>\n",
       "  </tbody>\n",
       "</table>\n",
       "</div>"
      ],
      "text/plain": [
       "     channel   tax\n",
       "0  Instagram  0.20\n",
       "1   Facebook  0.15\n",
       "2      Media  0.10"
      ]
     },
     "execution_count": 33,
     "metadata": {},
     "output_type": "execute_result"
    }
   ],
   "source": [
    "df_taxes"
   ]
  },
  {
   "cell_type": "markdown",
   "metadata": {
    "id": "87k3Znxo80vQ"
   },
   "source": [
    "p) Join two DataFrames `df_facebook` and `df_taxes` and store the result in a variable `df_facebook`.\n",
    "\n",
    "Display `df_facebook` DataFrame, which new column has just appeared?\n",
    "\n",
    "Look at the syntax in your course."
   ]
  },
  {
   "cell_type": "code",
   "execution_count": 27,
   "metadata": {},
   "outputs": [
    {
     "data": {
      "text/html": [
       "<div>\n",
       "<style scoped>\n",
       "    .dataframe tbody tr th:only-of-type {\n",
       "        vertical-align: middle;\n",
       "    }\n",
       "\n",
       "    .dataframe tbody tr th {\n",
       "        vertical-align: top;\n",
       "    }\n",
       "\n",
       "    .dataframe thead th {\n",
       "        text-align: right;\n",
       "    }\n",
       "</style>\n",
       "<table border=\"1\" class=\"dataframe\">\n",
       "  <thead>\n",
       "    <tr style=\"text-align: right;\">\n",
       "      <th></th>\n",
       "      <th>date</th>\n",
       "      <th>channel</th>\n",
       "      <th>spend</th>\n",
       "    </tr>\n",
       "  </thead>\n",
       "  <tbody>\n",
       "    <tr>\n",
       "      <th>0</th>\n",
       "      <td>2019-08-01</td>\n",
       "      <td>Media</td>\n",
       "      <td>91.80</td>\n",
       "    </tr>\n",
       "    <tr>\n",
       "      <th>1</th>\n",
       "      <td>2019-08-01</td>\n",
       "      <td>Media</td>\n",
       "      <td>44.42</td>\n",
       "    </tr>\n",
       "    <tr>\n",
       "      <th>2</th>\n",
       "      <td>2019-08-01</td>\n",
       "      <td>Media</td>\n",
       "      <td>41.98</td>\n",
       "    </tr>\n",
       "    <tr>\n",
       "      <th>3</th>\n",
       "      <td>2019-08-01</td>\n",
       "      <td>Facebook</td>\n",
       "      <td>7.02</td>\n",
       "    </tr>\n",
       "    <tr>\n",
       "      <th>4</th>\n",
       "      <td>2019-08-01</td>\n",
       "      <td>Facebook</td>\n",
       "      <td>1.09</td>\n",
       "    </tr>\n",
       "    <tr>\n",
       "      <th>...</th>\n",
       "      <td>...</td>\n",
       "      <td>...</td>\n",
       "      <td>...</td>\n",
       "    </tr>\n",
       "    <tr>\n",
       "      <th>73626</th>\n",
       "      <td>2019-01-18</td>\n",
       "      <td>Media</td>\n",
       "      <td>59.66</td>\n",
       "    </tr>\n",
       "    <tr>\n",
       "      <th>73627</th>\n",
       "      <td>2019-01-18</td>\n",
       "      <td>Media</td>\n",
       "      <td>126.23</td>\n",
       "    </tr>\n",
       "    <tr>\n",
       "      <th>73628</th>\n",
       "      <td>2019-01-18</td>\n",
       "      <td>Media</td>\n",
       "      <td>10.82</td>\n",
       "    </tr>\n",
       "    <tr>\n",
       "      <th>73629</th>\n",
       "      <td>2019-01-18</td>\n",
       "      <td>Media</td>\n",
       "      <td>13.90</td>\n",
       "    </tr>\n",
       "    <tr>\n",
       "      <th>73630</th>\n",
       "      <td>2019-01-18</td>\n",
       "      <td>Media</td>\n",
       "      <td>179.68</td>\n",
       "    </tr>\n",
       "  </tbody>\n",
       "</table>\n",
       "<p>73631 rows × 3 columns</p>\n",
       "</div>"
      ],
      "text/plain": [
       "             date   channel   spend\n",
       "0      2019-08-01     Media   91.80\n",
       "1      2019-08-01     Media   44.42\n",
       "2      2019-08-01     Media   41.98\n",
       "3      2019-08-01  Facebook    7.02\n",
       "4      2019-08-01  Facebook    1.09\n",
       "...           ...       ...     ...\n",
       "73626  2019-01-18     Media   59.66\n",
       "73627  2019-01-18     Media  126.23\n",
       "73628  2019-01-18     Media   10.82\n",
       "73629  2019-01-18     Media   13.90\n",
       "73630  2019-01-18     Media  179.68\n",
       "\n",
       "[73631 rows x 3 columns]"
      ]
     },
     "execution_count": 27,
     "metadata": {},
     "output_type": "execute_result"
    }
   ],
   "source": [
    "df_facebook"
   ]
  },
  {
   "cell_type": "code",
   "execution_count": 28,
   "metadata": {},
   "outputs": [],
   "source": [
    "df_facebook = pd.merge(df_facebook, df_taxes, on=[\"channel\"], how=\"inner\")"
   ]
  },
  {
   "cell_type": "code",
   "execution_count": 29,
   "metadata": {},
   "outputs": [
    {
     "data": {
      "text/html": [
       "<div>\n",
       "<style scoped>\n",
       "    .dataframe tbody tr th:only-of-type {\n",
       "        vertical-align: middle;\n",
       "    }\n",
       "\n",
       "    .dataframe tbody tr th {\n",
       "        vertical-align: top;\n",
       "    }\n",
       "\n",
       "    .dataframe thead th {\n",
       "        text-align: right;\n",
       "    }\n",
       "</style>\n",
       "<table border=\"1\" class=\"dataframe\">\n",
       "  <thead>\n",
       "    <tr style=\"text-align: right;\">\n",
       "      <th></th>\n",
       "      <th>date</th>\n",
       "      <th>channel</th>\n",
       "      <th>spend</th>\n",
       "      <th>tax</th>\n",
       "    </tr>\n",
       "  </thead>\n",
       "  <tbody>\n",
       "    <tr>\n",
       "      <th>0</th>\n",
       "      <td>2019-08-01</td>\n",
       "      <td>Media</td>\n",
       "      <td>91.80</td>\n",
       "      <td>0.1</td>\n",
       "    </tr>\n",
       "    <tr>\n",
       "      <th>1</th>\n",
       "      <td>2019-08-01</td>\n",
       "      <td>Media</td>\n",
       "      <td>44.42</td>\n",
       "      <td>0.1</td>\n",
       "    </tr>\n",
       "    <tr>\n",
       "      <th>2</th>\n",
       "      <td>2019-08-01</td>\n",
       "      <td>Media</td>\n",
       "      <td>41.98</td>\n",
       "      <td>0.1</td>\n",
       "    </tr>\n",
       "    <tr>\n",
       "      <th>3</th>\n",
       "      <td>2019-08-01</td>\n",
       "      <td>Media</td>\n",
       "      <td>32.09</td>\n",
       "      <td>0.1</td>\n",
       "    </tr>\n",
       "    <tr>\n",
       "      <th>4</th>\n",
       "      <td>2019-08-01</td>\n",
       "      <td>Media</td>\n",
       "      <td>32.89</td>\n",
       "      <td>0.1</td>\n",
       "    </tr>\n",
       "    <tr>\n",
       "      <th>...</th>\n",
       "      <td>...</td>\n",
       "      <td>...</td>\n",
       "      <td>...</td>\n",
       "      <td>...</td>\n",
       "    </tr>\n",
       "    <tr>\n",
       "      <th>73626</th>\n",
       "      <td>2019-01-18</td>\n",
       "      <td>Instagram</td>\n",
       "      <td>15.02</td>\n",
       "      <td>0.2</td>\n",
       "    </tr>\n",
       "    <tr>\n",
       "      <th>73627</th>\n",
       "      <td>2019-01-18</td>\n",
       "      <td>Instagram</td>\n",
       "      <td>31.19</td>\n",
       "      <td>0.2</td>\n",
       "    </tr>\n",
       "    <tr>\n",
       "      <th>73628</th>\n",
       "      <td>2019-01-18</td>\n",
       "      <td>Instagram</td>\n",
       "      <td>37.31</td>\n",
       "      <td>0.2</td>\n",
       "    </tr>\n",
       "    <tr>\n",
       "      <th>73629</th>\n",
       "      <td>2019-01-18</td>\n",
       "      <td>Instagram</td>\n",
       "      <td>49.31</td>\n",
       "      <td>0.2</td>\n",
       "    </tr>\n",
       "    <tr>\n",
       "      <th>73630</th>\n",
       "      <td>2019-01-18</td>\n",
       "      <td>Instagram</td>\n",
       "      <td>256.46</td>\n",
       "      <td>0.2</td>\n",
       "    </tr>\n",
       "  </tbody>\n",
       "</table>\n",
       "<p>73631 rows × 4 columns</p>\n",
       "</div>"
      ],
      "text/plain": [
       "             date    channel   spend  tax\n",
       "0      2019-08-01      Media   91.80  0.1\n",
       "1      2019-08-01      Media   44.42  0.1\n",
       "2      2019-08-01      Media   41.98  0.1\n",
       "3      2019-08-01      Media   32.09  0.1\n",
       "4      2019-08-01      Media   32.89  0.1\n",
       "...           ...        ...     ...  ...\n",
       "73626  2019-01-18  Instagram   15.02  0.2\n",
       "73627  2019-01-18  Instagram   31.19  0.2\n",
       "73628  2019-01-18  Instagram   37.31  0.2\n",
       "73629  2019-01-18  Instagram   49.31  0.2\n",
       "73630  2019-01-18  Instagram  256.46  0.2\n",
       "\n",
       "[73631 rows x 4 columns]"
      ]
     },
     "execution_count": 29,
     "metadata": {},
     "output_type": "execute_result"
    }
   ],
   "source": [
    "df_facebook"
   ]
  },
  {
   "cell_type": "markdown",
   "metadata": {
    "id": "9NtenRrN9puV"
   },
   "source": [
    "q) Create a new column in `df_facebook` that corresponds to the spend column minus the tax.\n",
    "\n",
    "We'll call this column `real_spend`.\n",
    "\n",
    "Hint: You can think of the columns in a DataFrame as variables for doing arithmetic operations."
   ]
  },
  {
   "cell_type": "code",
   "execution_count": null,
   "metadata": {},
   "outputs": [],
   "source": [
    "for item in (df_taxes[\"tax\"]):\n",
    "    df_taxes[\"tax\"].append(float(item))\n",
    "print(df_taxes[\"tax\"])"
   ]
  },
  {
   "cell_type": "code",
   "execution_count": 39,
   "metadata": {},
   "outputs": [
    {
     "data": {
      "text/plain": [
       "0         82.620\n",
       "1         39.978\n",
       "2         37.782\n",
       "3         28.881\n",
       "4         29.601\n",
       "          ...   \n",
       "73626     12.016\n",
       "73627     24.952\n",
       "73628     29.848\n",
       "73629     39.448\n",
       "73630    205.168\n",
       "Length: 73631, dtype: float64"
      ]
     },
     "execution_count": 39,
     "metadata": {},
     "output_type": "execute_result"
    }
   ],
   "source": [
    "df_facebook[\"spend\"] - df_facebook[\"tax\"]*df_facebook[\"spend\"]"
   ]
  },
  {
   "cell_type": "code",
   "execution_count": 40,
   "metadata": {},
   "outputs": [],
   "source": [
    "df_facebook[\"real_spend\"] = df_facebook[\"spend\"] - df_facebook[\"tax\"]*df_facebook[\"spend\"]"
   ]
  },
  {
   "cell_type": "code",
   "execution_count": 41,
   "metadata": {},
   "outputs": [
    {
     "data": {
      "text/html": [
       "<div>\n",
       "<style scoped>\n",
       "    .dataframe tbody tr th:only-of-type {\n",
       "        vertical-align: middle;\n",
       "    }\n",
       "\n",
       "    .dataframe tbody tr th {\n",
       "        vertical-align: top;\n",
       "    }\n",
       "\n",
       "    .dataframe thead th {\n",
       "        text-align: right;\n",
       "    }\n",
       "</style>\n",
       "<table border=\"1\" class=\"dataframe\">\n",
       "  <thead>\n",
       "    <tr style=\"text-align: right;\">\n",
       "      <th></th>\n",
       "      <th>date</th>\n",
       "      <th>channel</th>\n",
       "      <th>spend</th>\n",
       "      <th>tax</th>\n",
       "      <th>real_spend</th>\n",
       "    </tr>\n",
       "  </thead>\n",
       "  <tbody>\n",
       "    <tr>\n",
       "      <th>0</th>\n",
       "      <td>2019-08-01</td>\n",
       "      <td>Media</td>\n",
       "      <td>91.80</td>\n",
       "      <td>0.1</td>\n",
       "      <td>82.620</td>\n",
       "    </tr>\n",
       "    <tr>\n",
       "      <th>1</th>\n",
       "      <td>2019-08-01</td>\n",
       "      <td>Media</td>\n",
       "      <td>44.42</td>\n",
       "      <td>0.1</td>\n",
       "      <td>39.978</td>\n",
       "    </tr>\n",
       "    <tr>\n",
       "      <th>2</th>\n",
       "      <td>2019-08-01</td>\n",
       "      <td>Media</td>\n",
       "      <td>41.98</td>\n",
       "      <td>0.1</td>\n",
       "      <td>37.782</td>\n",
       "    </tr>\n",
       "    <tr>\n",
       "      <th>3</th>\n",
       "      <td>2019-08-01</td>\n",
       "      <td>Media</td>\n",
       "      <td>32.09</td>\n",
       "      <td>0.1</td>\n",
       "      <td>28.881</td>\n",
       "    </tr>\n",
       "    <tr>\n",
       "      <th>4</th>\n",
       "      <td>2019-08-01</td>\n",
       "      <td>Media</td>\n",
       "      <td>32.89</td>\n",
       "      <td>0.1</td>\n",
       "      <td>29.601</td>\n",
       "    </tr>\n",
       "    <tr>\n",
       "      <th>...</th>\n",
       "      <td>...</td>\n",
       "      <td>...</td>\n",
       "      <td>...</td>\n",
       "      <td>...</td>\n",
       "      <td>...</td>\n",
       "    </tr>\n",
       "    <tr>\n",
       "      <th>73626</th>\n",
       "      <td>2019-01-18</td>\n",
       "      <td>Instagram</td>\n",
       "      <td>15.02</td>\n",
       "      <td>0.2</td>\n",
       "      <td>12.016</td>\n",
       "    </tr>\n",
       "    <tr>\n",
       "      <th>73627</th>\n",
       "      <td>2019-01-18</td>\n",
       "      <td>Instagram</td>\n",
       "      <td>31.19</td>\n",
       "      <td>0.2</td>\n",
       "      <td>24.952</td>\n",
       "    </tr>\n",
       "    <tr>\n",
       "      <th>73628</th>\n",
       "      <td>2019-01-18</td>\n",
       "      <td>Instagram</td>\n",
       "      <td>37.31</td>\n",
       "      <td>0.2</td>\n",
       "      <td>29.848</td>\n",
       "    </tr>\n",
       "    <tr>\n",
       "      <th>73629</th>\n",
       "      <td>2019-01-18</td>\n",
       "      <td>Instagram</td>\n",
       "      <td>49.31</td>\n",
       "      <td>0.2</td>\n",
       "      <td>39.448</td>\n",
       "    </tr>\n",
       "    <tr>\n",
       "      <th>73630</th>\n",
       "      <td>2019-01-18</td>\n",
       "      <td>Instagram</td>\n",
       "      <td>256.46</td>\n",
       "      <td>0.2</td>\n",
       "      <td>205.168</td>\n",
       "    </tr>\n",
       "  </tbody>\n",
       "</table>\n",
       "<p>73631 rows × 5 columns</p>\n",
       "</div>"
      ],
      "text/plain": [
       "             date    channel   spend  tax  real_spend\n",
       "0      2019-08-01      Media   91.80  0.1      82.620\n",
       "1      2019-08-01      Media   44.42  0.1      39.978\n",
       "2      2019-08-01      Media   41.98  0.1      37.782\n",
       "3      2019-08-01      Media   32.09  0.1      28.881\n",
       "4      2019-08-01      Media   32.89  0.1      29.601\n",
       "...           ...        ...     ...  ...         ...\n",
       "73626  2019-01-18  Instagram   15.02  0.2      12.016\n",
       "73627  2019-01-18  Instagram   31.19  0.2      24.952\n",
       "73628  2019-01-18  Instagram   37.31  0.2      29.848\n",
       "73629  2019-01-18  Instagram   49.31  0.2      39.448\n",
       "73630  2019-01-18  Instagram  256.46  0.2     205.168\n",
       "\n",
       "[73631 rows x 5 columns]"
      ]
     },
     "execution_count": 41,
     "metadata": {},
     "output_type": "execute_result"
    }
   ],
   "source": [
    "df_facebook"
   ]
  },
  {
   "cell_type": "markdown",
   "metadata": {
    "id": "NPM_heA9yXCs"
   },
   "source": [
    "##### **Create a pivot table**"
   ]
  },
  {
   "cell_type": "markdown",
   "metadata": {
    "id": "h_qhomdYL2Ye"
   },
   "source": [
    "r) Make a pivot table with `date` as an index, channels as columns (from the `channel` column in the original table) and `real_spend` as values.\n",
    "\n",
    "Choose `sum` function for aggregate function.\n",
    "\n",
    "We will store the result in a variable `df_facebook_pivot`.\n",
    "\n",
    "Refer to your course for the correct syntax.\n",
    "\n",
    "**Don't forget to apply the `.reset_index()` function to recreate an index**.\n"
   ]
  },
  {
   "cell_type": "code",
   "execution_count": 42,
   "metadata": {
    "id": "XKFQ9JeGy-fb"
   },
   "outputs": [
    {
     "data": {
      "text/html": [
       "<div>\n",
       "<style scoped>\n",
       "    .dataframe tbody tr th:only-of-type {\n",
       "        vertical-align: middle;\n",
       "    }\n",
       "\n",
       "    .dataframe tbody tr th {\n",
       "        vertical-align: top;\n",
       "    }\n",
       "\n",
       "    .dataframe thead tr th {\n",
       "        text-align: left;\n",
       "    }\n",
       "</style>\n",
       "<table border=\"1\" class=\"dataframe\">\n",
       "  <thead>\n",
       "    <tr>\n",
       "      <th></th>\n",
       "      <th>date</th>\n",
       "      <th colspan=\"3\" halign=\"left\">real_spend</th>\n",
       "    </tr>\n",
       "    <tr>\n",
       "      <th>channel</th>\n",
       "      <th></th>\n",
       "      <th>Facebook</th>\n",
       "      <th>Instagram</th>\n",
       "      <th>Media</th>\n",
       "    </tr>\n",
       "  </thead>\n",
       "  <tbody>\n",
       "    <tr>\n",
       "      <th>0</th>\n",
       "      <td>2019-01-01</td>\n",
       "      <td>600.278500</td>\n",
       "      <td>1124.912</td>\n",
       "      <td>1772.991000</td>\n",
       "    </tr>\n",
       "    <tr>\n",
       "      <th>1</th>\n",
       "      <td>2019-01-02</td>\n",
       "      <td>731.127500</td>\n",
       "      <td>1219.472</td>\n",
       "      <td>2117.655000</td>\n",
       "    </tr>\n",
       "    <tr>\n",
       "      <th>2</th>\n",
       "      <td>2019-01-03</td>\n",
       "      <td>920.575500</td>\n",
       "      <td>1610.480</td>\n",
       "      <td>2467.827000</td>\n",
       "    </tr>\n",
       "    <tr>\n",
       "      <th>3</th>\n",
       "      <td>2019-01-04</td>\n",
       "      <td>1010.692500</td>\n",
       "      <td>2678.864</td>\n",
       "      <td>2930.013000</td>\n",
       "    </tr>\n",
       "    <tr>\n",
       "      <th>4</th>\n",
       "      <td>2019-01-05</td>\n",
       "      <td>1040.842000</td>\n",
       "      <td>3077.824</td>\n",
       "      <td>3150.234000</td>\n",
       "    </tr>\n",
       "    <tr>\n",
       "      <th>...</th>\n",
       "      <td>...</td>\n",
       "      <td>...</td>\n",
       "      <td>...</td>\n",
       "      <td>...</td>\n",
       "    </tr>\n",
       "    <tr>\n",
       "      <th>286</th>\n",
       "      <td>2019-10-14</td>\n",
       "      <td>57.349500</td>\n",
       "      <td>142.392</td>\n",
       "      <td>26.496000</td>\n",
       "    </tr>\n",
       "    <tr>\n",
       "      <th>287</th>\n",
       "      <td>2019-10-15</td>\n",
       "      <td>54.578503</td>\n",
       "      <td>143.152</td>\n",
       "      <td>37.854004</td>\n",
       "    </tr>\n",
       "    <tr>\n",
       "      <th>288</th>\n",
       "      <td>2019-10-16</td>\n",
       "      <td>96.985000</td>\n",
       "      <td>122.032</td>\n",
       "      <td>39.231002</td>\n",
       "    </tr>\n",
       "    <tr>\n",
       "      <th>289</th>\n",
       "      <td>2019-10-17</td>\n",
       "      <td>87.422500</td>\n",
       "      <td>117.176</td>\n",
       "      <td>43.353002</td>\n",
       "    </tr>\n",
       "    <tr>\n",
       "      <th>290</th>\n",
       "      <td>2019-10-18</td>\n",
       "      <td>13.540500</td>\n",
       "      <td>23.096</td>\n",
       "      <td>20.142000</td>\n",
       "    </tr>\n",
       "  </tbody>\n",
       "</table>\n",
       "<p>291 rows × 4 columns</p>\n",
       "</div>"
      ],
      "text/plain": [
       "               date   real_spend                       \n",
       "channel                 Facebook Instagram        Media\n",
       "0        2019-01-01   600.278500  1124.912  1772.991000\n",
       "1        2019-01-02   731.127500  1219.472  2117.655000\n",
       "2        2019-01-03   920.575500  1610.480  2467.827000\n",
       "3        2019-01-04  1010.692500  2678.864  2930.013000\n",
       "4        2019-01-05  1040.842000  3077.824  3150.234000\n",
       "..              ...          ...       ...          ...\n",
       "286      2019-10-14    57.349500   142.392    26.496000\n",
       "287      2019-10-15    54.578503   143.152    37.854004\n",
       "288      2019-10-16    96.985000   122.032    39.231002\n",
       "289      2019-10-17    87.422500   117.176    43.353002\n",
       "290      2019-10-18    13.540500    23.096    20.142000\n",
       "\n",
       "[291 rows x 4 columns]"
      ]
     },
     "execution_count": 42,
     "metadata": {},
     "output_type": "execute_result"
    }
   ],
   "source": [
    "#data = # to be completed\n",
    "#values = \"real_spend\"\n",
    "#index = \"date\"\n",
    "#columns = \"channel\"\n",
    "#aggfunc = sum\n",
    "\n",
    "df_facebook_pivot = pd.pivot_table(df_facebook, values=[\"real_spend\"], index=[\"date\"], columns=[\"channel\"] ,\\\n",
    "                                   aggfunc=sum).reset_index()\n",
    "\n",
    "df_facebook_pivot"
   ]
  },
  {
   "cell_type": "markdown",
   "metadata": {
    "id": "N3ZZk_tC4ZLo"
   },
   "source": [
    "s) Save the values in a csv file `df_facebook_pivot.csv`."
   ]
  },
  {
   "cell_type": "code",
   "execution_count": 43,
   "metadata": {
    "id": "V-mDdjfM1xTi"
   },
   "outputs": [],
   "source": [
    "df_facebook_pivot.to_csv(r\"C:\\Users\\ionel\\OneDrive\\Escritorio\\Python\\df_facebook_pivot.csv\") "
   ]
  },
  {
   "cell_type": "markdown",
   "metadata": {
    "id": "cf8AutHnL2Y2"
   },
   "source": [
    "u) [Bonus] Are there multiple rows in  `df_facebook` for a same day and channel? If so, count the number of days for which this is the case per channel."
   ]
  },
  {
   "cell_type": "code",
   "execution_count": null,
   "metadata": {
    "id": "f_MoX3zFL2Y3"
   },
   "outputs": [],
   "source": []
  }
 ],
 "metadata": {
  "colab": {
   "provenance": []
  },
  "kernelspec": {
   "display_name": "Python 3 (ipykernel)",
   "language": "python",
   "name": "python3"
  },
  "language_info": {
   "codemirror_mode": {
    "name": "ipython",
    "version": 3
   },
   "file_extension": ".py",
   "mimetype": "text/x-python",
   "name": "python",
   "nbconvert_exporter": "python",
   "pygments_lexer": "ipython3",
   "version": "3.10.9"
  }
 },
 "nbformat": 4,
 "nbformat_minor": 1
}
